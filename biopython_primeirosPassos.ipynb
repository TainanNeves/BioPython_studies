{
 "cells": [
  {
   "cell_type": "markdown",
   "metadata": {},
   "source": [
    "# Biopython - Estudando conceitos basicos da biblioteca\n"
   ]
  },
  {
   "cell_type": "markdown",
   "metadata": {},
   "source": [
    "## 1 - Preparando a biblioteca\n",
    "\n",
    "Primeiro é preciso instalar a biblioteca Biopython rodando o comando abaixo:"
   ]
  },
  {
   "cell_type": "code",
   "execution_count": 37,
   "metadata": {},
   "outputs": [
    {
     "name": "stdout",
     "output_type": "stream",
     "text": [
      "Requirement already satisfied: biopython in /home/tainan/anaconda3/lib/python3.8/site-packages (1.78)\r\n",
      "Requirement already satisfied: numpy in /home/tainan/anaconda3/lib/python3.8/site-packages (from biopython) (1.19.2)\r\n"
     ]
    }
   ],
   "source": [
    "!pip install biopython"
   ]
  },
  {
   "cell_type": "markdown",
   "metadata": {},
   "source": [
    "## 2 - Trabalhando com sequencias - Basico\n",
    "\n",
    "Para trabalharmos com sequencias devemos primeiro importa-las"
   ]
  },
  {
   "cell_type": "code",
   "execution_count": 38,
   "metadata": {},
   "outputs": [],
   "source": [
    "#Do modulo Bio.Seq, importamos a classe Seq\n",
    "from Bio.Seq import Seq"
   ]
  },
  {
   "cell_type": "markdown",
   "metadata": {},
   "source": [
    "### 2.1 - Importando uma sequência\n"
   ]
  },
  {
   "cell_type": "code",
   "execution_count": 39,
   "metadata": {},
   "outputs": [
    {
     "data": {
      "text/plain": [
       "Seq('ATGCATGCATGC')"
      ]
     },
     "execution_count": 39,
     "metadata": {},
     "output_type": "execute_result"
    }
   ],
   "source": [
    "#Declarando a sequencia de interesse\n",
    "DNA = Seq(\"ATGCATGCATGC\")\n",
    "DNA"
   ]
  },
  {
   "cell_type": "markdown",
   "metadata": {},
   "source": [
    "### 2.2 - Sequência complementar e complementar reversa\n",
    "\n"
   ]
  },
  {
   "cell_type": "code",
   "execution_count": 40,
   "metadata": {},
   "outputs": [
    {
     "data": {
      "text/plain": [
       "Seq('TACGTACGTACG')"
      ]
     },
     "execution_count": 40,
     "metadata": {},
     "output_type": "execute_result"
    }
   ],
   "source": [
    "#COMPLEMENTAR\n",
    "DNA_complementar = DNA.complement()\n",
    "DNA_complementar #Repare que o sentido aqui é é 3'-5'"
   ]
  },
  {
   "cell_type": "code",
   "execution_count": 41,
   "metadata": {},
   "outputs": [
    {
     "data": {
      "text/plain": [
       "Seq('GCATGCATGCAT')"
      ]
     },
     "execution_count": 41,
     "metadata": {},
     "output_type": "execute_result"
    }
   ],
   "source": [
    "#COMPLEMENTAR REVERSA\n",
    "DNA_complementar_reversa = DNA.reverse_complement()\n",
    "DNA_complementar_reversa #Repare que o sentido aqui é 5'-3'"
   ]
  },
  {
   "cell_type": "code",
   "execution_count": 42,
   "metadata": {},
   "outputs": [
    {
     "name": "stdout",
     "output_type": "stream",
     "text": [
      "DNA =  ATGCATGCATGC\n",
      "DNA_complementar =  TACGTACGTACG\n",
      "DNA complementar reverso =  GCATGCATGCAT\n"
     ]
    }
   ],
   "source": [
    "#Comparando as Três sequencias:\n",
    "print(\"DNA = \", DNA)\n",
    "print(\"DNA_complementar = \", DNA_complementar)\n",
    "print(\"DNA complementar reverso = \", DNA_complementar_reversa)"
   ]
  },
  {
   "cell_type": "markdown",
   "metadata": {},
   "source": [
    "### 2.3 - Sequência complementar de um RNA"
   ]
  },
  {
   "cell_type": "code",
   "execution_count": 43,
   "metadata": {},
   "outputs": [
    {
     "name": "stdout",
     "output_type": "stream",
     "text": [
      "RNA =  AUGCAUGCAUGC\n",
      "RNA complementar UACGUACGUACG\n"
     ]
    }
   ],
   "source": [
    "#Importando um RNA\n",
    "RNA = Seq(\"AUGCAUGCAUGC\")\n",
    "print(\"RNA = \",RNA)\n",
    "#Complementar do RNA\n",
    "RNA_complementar = RNA.complement_rna()\n",
    "print(\"RNA complementar\", RNA_complementar)\n"
   ]
  },
  {
   "cell_type": "markdown",
   "metadata": {},
   "source": [
    "## 3 - Transcrição de sequência"
   ]
  },
  {
   "cell_type": "code",
   "execution_count": 44,
   "metadata": {},
   "outputs": [
    {
     "name": "stdout",
     "output_type": "stream",
     "text": [
      "ATGCATGCATGC\n",
      "AUGCAUGCAUGC\n"
     ]
    }
   ],
   "source": [
    "#O método transcribe apenas transforma Timinas em Uracilas\n",
    "#Ou seja, este metodo tras a fita CODIFICADORA\n",
    "transcrito = DNA.transcribe()\n",
    "print(DNA)\n",
    "print(transcrito)"
   ]
  },
  {
   "cell_type": "code",
   "execution_count": 45,
   "metadata": {},
   "outputs": [
    {
     "data": {
      "text/plain": [
       "Seq('ATGCATGCATGC')"
      ]
     },
     "execution_count": 45,
     "metadata": {},
     "output_type": "execute_result"
    }
   ],
   "source": [
    "#Pode-se tambem fazer o caminho contrário. Do transcrito para o DNA\n",
    "transcrito.back_transcribe()"
   ]
  },
  {
   "cell_type": "code",
   "execution_count": 46,
   "metadata": {},
   "outputs": [
    {
     "data": {
      "text/plain": [
       "Seq('GCATGCATGCAT')"
      ]
     },
     "execution_count": 46,
     "metadata": {},
     "output_type": "execute_result"
    }
   ],
   "source": [
    "#Se quisermos a fita MOLDE da sequencia de RNA podemos fazer:\n",
    "transcrito.back_transcribe().reverse_complement()\n"
   ]
  },
  {
   "cell_type": "markdown",
   "metadata": {},
   "source": [
    "## 4 - Tradução da sequência\n",
    "\n",
    "Aqui opteremos a sequência de aminoácidos (Abreviação com uma letra)"
   ]
  },
  {
   "cell_type": "markdown",
   "metadata": {},
   "source": [
    "### 4.1 - A partir de RNA Mensageiro"
   ]
  },
  {
   "cell_type": "code",
   "execution_count": 47,
   "metadata": {},
   "outputs": [
    {
     "data": {
      "text/plain": [
       "Seq('IRIGFI')"
      ]
     },
     "execution_count": 47,
     "metadata": {},
     "output_type": "execute_result"
    }
   ],
   "source": [
    "#A tradução deve ser feita a partir de uma fita de RNA mensageiro\n",
    "#importando RNA\n",
    "RNA2 = Seq(\"AUACGUAUUGGAUUUAUA\")\n",
    "\n",
    "#Obter proteína e salvar em variável\n",
    "proteina_RNA = RNA2.translate()\n",
    "proteina_RNA"
   ]
  },
  {
   "cell_type": "code",
   "execution_count": 48,
   "metadata": {},
   "outputs": [
    {
     "data": {
      "text/plain": [
       "Seq('IRIGFI*')"
      ]
     },
     "execution_count": 48,
     "metadata": {},
     "output_type": "execute_result"
    }
   ],
   "source": [
    "#Este método reconhece o StopCodon.\n",
    "#Vamos adicionar o stop \"UGA\" para que veja oque ocorre.\n",
    "#Coloca * no stop codon\n",
    "RNA2_stop = Seq(\"AUACGUAUUGGAUUUAUAUGA\")\n",
    "\n",
    "#Traduzindo\n",
    "proteina_RNA2 = RNA2_stop.translate()\n",
    "proteina_RNA2"
   ]
  },
  {
   "cell_type": "code",
   "execution_count": 49,
   "metadata": {},
   "outputs": [
    {
     "name": "stdout",
     "output_type": "stream",
     "text": [
      "IRI\n",
      "IRI*GFI\n"
     ]
    }
   ],
   "source": [
    "#Se o STOP estiver no meio da sequência:\n",
    "\n",
    "rna_stop2 = Seq(\"AUACGUAUUUGAGGAUUUAUA\")\n",
    "\n",
    "#Parando no STOP\n",
    "proteina2 = rna_stop2.translate(to_stop=True) \n",
    "print(proteina2)\n",
    "\n",
    "#Seguindo após STOP (to_stop = False é padrão)\n",
    "proteina2 = rna_stop2.translate()  \n",
    "print(proteina2)"
   ]
  },
  {
   "cell_type": "markdown",
   "metadata": {},
   "source": [
    "### 4.2 - A partir de DNA"
   ]
  },
  {
   "cell_type": "code",
   "execution_count": 50,
   "metadata": {},
   "outputs": [
    {
     "data": {
      "text/plain": [
       "Seq('MHAC')"
      ]
     },
     "execution_count": 50,
     "metadata": {},
     "output_type": "execute_result"
    }
   ],
   "source": [
    "proteina_DNA = DNA.translate()\n",
    "proteina_DNA"
   ]
  },
  {
   "cell_type": "markdown",
   "metadata": {},
   "source": [
    "## 5 - Métodos para trabalhar com objetos da classe Seq"
   ]
  },
  {
   "cell_type": "markdown",
   "metadata": {},
   "source": [
    "### 5.1 - find()\n",
    "\n",
    "Busca um trecho de sequência"
   ]
  },
  {
   "cell_type": "code",
   "execution_count": 51,
   "metadata": {},
   "outputs": [
    {
     "data": {
      "text/plain": [
       "3"
      ]
     },
     "execution_count": 51,
     "metadata": {},
     "output_type": "execute_result"
    }
   ],
   "source": [
    "from Bio.Seq import Seq\n",
    "\n",
    "#Declarando sequencia da classe Seq\n",
    "meu_dna = Seq(\"AATGGCTTCGGA\")\n",
    "\n",
    "#Passando o trecho procurado\n",
    "meu_dna.find(\"GGC\")\n",
    "#Retorna o numero (indice) da primeira posição\n",
    "#Lembre que em python começa no 0"
   ]
  },
  {
   "cell_type": "code",
   "execution_count": 52,
   "metadata": {},
   "outputs": [
    {
     "data": {
      "text/plain": [
       "-1"
      ]
     },
     "execution_count": 52,
     "metadata": {},
     "output_type": "execute_result"
    }
   ],
   "source": [
    "#Se passarmos um trecho que não existe, o programa retornará \"-1\"\n",
    "meu_dna.find(\"AAA\")"
   ]
  },
  {
   "cell_type": "markdown",
   "metadata": {},
   "source": [
    "### 5.2 - index()\n",
    "\n",
    "Semelhante ao find(). Contudo, retorna um erro se não encontrar a sequência"
   ]
  },
  {
   "cell_type": "code",
   "execution_count": 53,
   "metadata": {},
   "outputs": [
    {
     "data": {
      "text/plain": [
       "3"
      ]
     },
     "execution_count": 53,
     "metadata": {},
     "output_type": "execute_result"
    }
   ],
   "source": [
    "meu_dna.index(\"GGC\")"
   ]
  },
  {
   "cell_type": "code",
   "execution_count": 54,
   "metadata": {},
   "outputs": [
    {
     "ename": "ValueError",
     "evalue": "substring not found",
     "output_type": "error",
     "traceback": [
      "\u001b[0;31m---------------------------------------------------------------------------\u001b[0m",
      "\u001b[0;31mValueError\u001b[0m                                Traceback (most recent call last)",
      "\u001b[0;32m<ipython-input-54-9178ecc3d31a>\u001b[0m in \u001b[0;36m<module>\u001b[0;34m\u001b[0m\n\u001b[0;32m----> 1\u001b[0;31m \u001b[0mmeu_dna\u001b[0m\u001b[0;34m.\u001b[0m\u001b[0mindex\u001b[0m\u001b[0;34m(\u001b[0m\u001b[0;34m\"AAA\"\u001b[0m\u001b[0;34m)\u001b[0m\u001b[0;34m\u001b[0m\u001b[0;34m\u001b[0m\u001b[0m\n\u001b[0m",
      "\u001b[0;32m~/anaconda3/lib/python3.8/site-packages/Bio/Seq.py\u001b[0m in \u001b[0;36mindex\u001b[0;34m(self, sub, start, end)\u001b[0m\n\u001b[1;32m    478\u001b[0m         \u001b[0mValueError\u001b[0m\u001b[0;34m:\u001b[0m \u001b[0msubstring\u001b[0m \u001b[0;32mnot\u001b[0m \u001b[0mfound\u001b[0m\u001b[0;34m...\u001b[0m\u001b[0;34m\u001b[0m\u001b[0;34m\u001b[0m\u001b[0m\n\u001b[1;32m    479\u001b[0m         \"\"\"\n\u001b[0;32m--> 480\u001b[0;31m         \u001b[0;32mreturn\u001b[0m \u001b[0mstr\u001b[0m\u001b[0;34m(\u001b[0m\u001b[0mself\u001b[0m\u001b[0;34m)\u001b[0m\u001b[0;34m.\u001b[0m\u001b[0mindex\u001b[0m\u001b[0;34m(\u001b[0m\u001b[0mstr\u001b[0m\u001b[0;34m(\u001b[0m\u001b[0msub\u001b[0m\u001b[0;34m)\u001b[0m\u001b[0;34m,\u001b[0m \u001b[0mstart\u001b[0m\u001b[0;34m,\u001b[0m \u001b[0mend\u001b[0m\u001b[0;34m)\u001b[0m\u001b[0;34m\u001b[0m\u001b[0;34m\u001b[0m\u001b[0m\n\u001b[0m\u001b[1;32m    481\u001b[0m \u001b[0;34m\u001b[0m\u001b[0m\n\u001b[1;32m    482\u001b[0m     \u001b[0;32mdef\u001b[0m \u001b[0mrindex\u001b[0m\u001b[0;34m(\u001b[0m\u001b[0mself\u001b[0m\u001b[0;34m,\u001b[0m \u001b[0msub\u001b[0m\u001b[0;34m,\u001b[0m \u001b[0mstart\u001b[0m\u001b[0;34m=\u001b[0m\u001b[0;36m0\u001b[0m\u001b[0;34m,\u001b[0m \u001b[0mend\u001b[0m\u001b[0;34m=\u001b[0m\u001b[0msys\u001b[0m\u001b[0;34m.\u001b[0m\u001b[0mmaxsize\u001b[0m\u001b[0;34m)\u001b[0m\u001b[0;34m:\u001b[0m\u001b[0;34m\u001b[0m\u001b[0;34m\u001b[0m\u001b[0m\n",
      "\u001b[0;31mValueError\u001b[0m: substring not found"
     ]
    }
   ],
   "source": [
    "meu_dna.index(\"AAA\")"
   ]
  },
  {
   "cell_type": "markdown",
   "metadata": {},
   "source": [
    "### 5.3 - count()\n",
    "\n",
    "Conta a quantidade de uma base na sequência"
   ]
  },
  {
   "cell_type": "code",
   "execution_count": null,
   "metadata": {},
   "outputs": [],
   "source": [
    "#Contando quantia de bases\n",
    "print(meu_dna.count(\"A\"))\n",
    "print(meu_dna.count(\"C\"))\n",
    "print(\"\\n\")\n",
    "\n",
    "#CUIDADO COM OVVERLAPS\n",
    "#Metodo específico para contar com overlaps\n",
    "minha_sobreposicao = Seq(\"AAAATCGTA\")\n",
    "print(minha_sobreposicao.count(\"AA\"))\n",
    "print(minha_sobreposicao.count_overlap(\"AA\"))"
   ]
  },
  {
   "cell_type": "markdown",
   "metadata": {},
   "source": [
    "### 5.4 - startswith()\n",
    "\n",
    "True - Se a sequencia iniciar com o trecho dado\n",
    "ou\n",
    "False - Caso contrário"
   ]
  },
  {
   "cell_type": "code",
   "execution_count": null,
   "metadata": {},
   "outputs": [],
   "source": [
    "print(meu_dna)\n",
    "\n",
    "print(meu_dna.startswith(\"AAT\"))\n",
    "print(meu_dna.startswith(\"ATG\"))"
   ]
  },
  {
   "cell_type": "markdown",
   "metadata": {},
   "source": [
    "### 5.5 - endsswith()\n",
    "\n",
    "True - Se a sequencia termina com o trecho dado\n",
    "ou\n",
    "False - Caso contrário"
   ]
  },
  {
   "cell_type": "code",
   "execution_count": null,
   "metadata": {},
   "outputs": [],
   "source": [
    "print(meu_dna)\n",
    "\n",
    "print(meu_dna.endswith(\"CGGA\"))\n",
    "print(meu_dna.endswith(\"CGGU\"))"
   ]
  },
  {
   "cell_type": "markdown",
   "metadata": {},
   "source": [
    "### 5.6 - split()\n",
    "\n",
    "Retorna uma lista de strings (Como objetos de Seq) usando sep como delimitador"
   ]
  },
  {
   "cell_type": "code",
   "execution_count": null,
   "metadata": {},
   "outputs": [],
   "source": [
    "#Vamos pegar um RNA, traduzilo em proteina e depois usar como delimitador os stop codons ( * )\n",
    "rna = Seq(\"AUUGGUACGUAAGGCAGCGUGUGAUAUCCGGGG\")\n",
    "\n",
    "proteina = rna.translate()\n",
    "proteina"
   ]
  },
  {
   "cell_type": "code",
   "execution_count": null,
   "metadata": {},
   "outputs": [],
   "source": [
    "#Quebrando nossa sequencia de aminoácidos usando os stop codons como delimitadores\n",
    "proteina.split(sep=\"*\")\n",
    "#O método devolve uma lista com os trechos como objetos Seq"
   ]
  },
  {
   "cell_type": "markdown",
   "metadata": {},
   "source": [
    "### 5.7 - strip()\n",
    "\n",
    "Remove os espaços de começo e final da sequencia"
   ]
  },
  {
   "cell_type": "code",
   "execution_count": null,
   "metadata": {},
   "outputs": [],
   "source": [
    "#Declarando sequencia com espaço em branco no começo e final\n",
    "meu_dna = Seq(' AATGGCTTCGGA ')\n",
    "meu_dna.strip(chars=' ')"
   ]
  },
  {
   "cell_type": "code",
   "execution_count": null,
   "metadata": {},
   "outputs": [],
   "source": [
    "#Declarando sequencia com '-' no começo e final\n",
    "meu_dna = Seq('-AATGGCTTCGGA-')\n",
    "meu_dna.strip(chars='-')"
   ]
  },
  {
   "cell_type": "markdown",
   "metadata": {},
   "source": [
    "### 5.8 - join()\n",
    "\n",
    "Intercala uma lista de strings com um intercalador"
   ]
  },
  {
   "cell_type": "code",
   "execution_count": null,
   "metadata": {},
   "outputs": [],
   "source": [
    "intercalador = Seq(\"AAA\")\n",
    "\n",
    "# criamos uma lista com trechos\n",
    "lista = [\"GGGG\", \"TTTT\", \"CCCC\"]\n",
    "\n",
    "# o método .join() irá juntar os trechos, usando o intercalador entre eles\n",
    "intercalador.join(lista)"
   ]
  },
  {
   "cell_type": "markdown",
   "metadata": {},
   "source": [
    "### 5.9 - upper()\n",
    "\n",
    "Retorna as letras em maiúsculo"
   ]
  },
  {
   "cell_type": "code",
   "execution_count": null,
   "metadata": {},
   "outputs": [],
   "source": [
    "sequencia = Seq(\"aaAAaTttGGgggcccccCC\")\n",
    "sequencia.upper()"
   ]
  },
  {
   "cell_type": "markdown",
   "metadata": {},
   "source": [
    "### 5.10 - lower()\n",
    "\n",
    "Retorna as letras em minúsculo"
   ]
  },
  {
   "cell_type": "code",
   "execution_count": null,
   "metadata": {},
   "outputs": [],
   "source": [
    "sequencia = Seq(\"aaAAaTttGGgggcccccCC\")\n",
    "sequencia.lower()"
   ]
  },
  {
   "cell_type": "markdown",
   "metadata": {},
   "source": [
    "## 6 - Concatenando Sequências\n",
    "\n",
    "para unir sequências, podemos usar o operador \"+\" que, quando aplicado a strings, faz a concatenação:\n"
   ]
  },
  {
   "cell_type": "code",
   "execution_count": null,
   "metadata": {},
   "outputs": [],
   "source": [
    "# vamos criar quatro sequências\n",
    "seq1 = Seq(\"AAAA\")\n",
    "seq2 = Seq(\"CCCC\")\n",
    "seq3 = Seq(\"GGGG\")\n",
    "seq4 = Seq(\"TTTT\")\n",
    "\n",
    "# concatenando as quatro sequências e salvando numa variável\n",
    "sequencia_concatenada = seq1 + seq2 + seq3 + seq4\n",
    "sequencia_concatenada"
   ]
  },
  {
   "cell_type": "markdown",
   "metadata": {},
   "source": [
    "## 7 - Comparando sequências\n",
    "\n",
    "para comparar sequências, podemos usar o operador \"==\":"
   ]
  },
  {
   "cell_type": "code",
   "execution_count": null,
   "metadata": {},
   "outputs": [],
   "source": [
    "# vamos criar três sequências\n",
    "seq1 = Seq(\"AAAACCCC\")\n",
    "seq2 = Seq(\"GGGGCCCC\")\n",
    "seq3 = Seq(\"AAAACCCC\")\n",
    "\n",
    "# comparando seq1 com seq2\n",
    "if seq1 == seq2:\n",
    "  print(\"1 e 2 São iguais\")\n",
    "  print(\"\\n\")\n",
    "else:\n",
    "  print(\"1 e 2 Não são iguais\")\n",
    "  print(\"\\n\")\n",
    "\n",
    "# comparando seq1 com seq3\n",
    "if seq1 == seq3:\n",
    "  print(\"1 e 3 São iguais\")\n",
    "  print(\"\\n\")\n",
    "else:\n",
    "  print(\"1 e 3 Não são iguais\")\n",
    "  print(\"\\n\")"
   ]
  },
  {
   "cell_type": "markdown",
   "metadata": {},
   "source": [
    "## 8 - Verificando se uma sequencia contém um trecho específico\n",
    "\n",
    "para verificar se um trecho de nucleotídeos está presente em uma sequência, usamos \"in\"\n",
    "\n",
    "-->(pode parecer semelhante ao .find(), porém o \"in\" retorna um valor booleano True ou False, enquanto .find() retorna um índice)"
   ]
  },
  {
   "cell_type": "code",
   "execution_count": null,
   "metadata": {},
   "outputs": [],
   "source": [
    "# trecho de interesse\n",
    "trecho = Seq(\"AATT\")\n",
    "\n",
    "# sequência que queremos buscar o trecho\n",
    "sequencia = Seq(\"ATCGATGCTGACAATTGTCGATCGAAT\")\n",
    "\n",
    "trecho in sequencia"
   ]
  },
  {
   "cell_type": "code",
   "execution_count": null,
   "metadata": {},
   "outputs": [],
   "source": [
    "# podemos também imprimir uma mensagem \n",
    "if trecho in sequencia:\n",
    "  print(\"A sequência possui esse trecho\")\n",
    "else:\n",
    "  print(\"Esse trecho não está presente na sequência\")"
   ]
  },
  {
   "cell_type": "markdown",
   "metadata": {},
   "source": [
    "# Trabalhando com gráficos\n",
    "\n",
    "Neste caso utilizaremos as bibliotecas MatplotLib e Seaborn"
   ]
  },
  {
   "cell_type": "markdown",
   "metadata": {},
   "source": [
    "## Importando as bibliotecas"
   ]
  },
  {
   "cell_type": "code",
   "execution_count": 55,
   "metadata": {},
   "outputs": [],
   "source": [
    "import matplotlib.pyplot as plt\n",
    "import seaborn as sns"
   ]
  },
  {
   "cell_type": "markdown",
   "metadata": {},
   "source": [
    "## Definindo sequencia de interesse"
   ]
  },
  {
   "cell_type": "code",
   "execution_count": 56,
   "metadata": {},
   "outputs": [],
   "source": [
    "# essa será nossa sequência\n",
    "meu_dna = \"CCACCCTCGTGGTATGGCTAGGCATTCAGGAACCGGAGAACGCTTCAGACCAGCCCGGACTGGGAACCTGCGGGCAGTAGGTGGAAT\"\n",
    "\n",
    "# vamos garantir que todas as letras estejam em maiúsculo para evitar possíveis erros \n",
    "meu_dna = meu_dna.upper()"
   ]
  },
  {
   "cell_type": "markdown",
   "metadata": {},
   "source": [
    "## Quantidade de Nucleotídeos\n",
    "\n"
   ]
  },
  {
   "cell_type": "code",
   "execution_count": 57,
   "metadata": {},
   "outputs": [
    {
     "data": {
      "text/plain": [
       "[20, 14, 29, 24]"
      ]
     },
     "execution_count": 57,
     "metadata": {},
     "output_type": "execute_result"
    }
   ],
   "source": [
    "# função que retorna a quantidade de A T G C da sequência:\n",
    "def conta_nucleotideos(dna): \n",
    "  nucleotideos = [dna.count(\"A\"), dna.count(\"T\"), dna.count(\"G\"), dna.count(\"C\")]\n",
    "  return nucleotideos\n",
    "\n",
    "# chamando a função e guardando as quantidades na variável nucleotídeos\n",
    "nucleotideos = conta_nucleotideos(meu_dna)\n",
    "nucleotideos"
   ]
  },
  {
   "cell_type": "code",
   "execution_count": 58,
   "metadata": {
    "scrolled": true
   },
   "outputs": [
    {
     "data": {
      "image/png": "[encoded data removed]",
      "text/plain": [
       "<Figure size 576x432 with 1 Axes>"
      ]
     },
     "metadata": {
      "needs_background": "light"
     },
     "output_type": "display_data"
    }
   ],
   "source": [
    "# função para criar o gráfico que recebe como parâmetros os nucleotídeos\n",
    "def cria_grafico_nucleotideos(nucleotideos):\n",
    "\n",
    "# valores do eixo x e suas cores\n",
    "  nome_bases = (\"A\", \"T\", \"G\", \"C\")\n",
    "  cores = (\"green\", \"red\", \"black\", \"blue\")\n",
    "\n",
    "# plotando o gráfico e legendas\n",
    "  plt.figure(figsize=(8,6))\n",
    "  plt.bar(nome_bases, nucleotideos, color = cores)\n",
    "  plt.ylabel(\"Quantidade de bases (valor absoluto)\", fontsize = 16)\n",
    "  plt.xticks(nome_bases, fontsize = 16)\n",
    "  plt.xlabel(\"Nucleotídeo\", fontsize = 16);\n",
    "\n",
    "# chamamos a função\n",
    "cria_grafico_nucleotideos(nucleotideos)"
   ]
  },
  {
   "cell_type": "markdown",
   "metadata": {},
   "source": [
    "## Proporção de nucleotídeos"
   ]
  },
  {
   "cell_type": "code",
   "execution_count": 59,
   "metadata": {},
   "outputs": [
    {
     "data": {
      "text/plain": [
       "[22.988505747126435, 16.091954022988507, 33.33333333333333, 27.586206896551722]"
      ]
     },
     "execution_count": 59,
     "metadata": {},
     "output_type": "execute_result"
    }
   ],
   "source": [
    "# função que retorna a proporção de A T G C da sequência:\n",
    "def proporcao_nucleotideos(dna): \n",
    "# criamos uma lista vazia para guardar as proporções\n",
    "  proporcao = []\n",
    "# contamos a quantidade de cada base e depois somamos o valor total\n",
    "  bases = [dna.count(\"A\"), dna.count(\"T\"), dna.count(\"G\"), dna.count(\"C\")]\n",
    "  total = sum(bases)\n",
    "# obtemos a proporção de cada base\n",
    "  for base in bases:\n",
    "    proporcao.append((base/total) * 100)\n",
    "  return proporcao\n",
    "\n",
    "# chamamos a função\n",
    "proporcao = proporcao_nucleotideos(meu_dna)\n",
    "proporcao"
   ]
  },
  {
   "cell_type": "code",
   "execution_count": 60,
   "metadata": {},
   "outputs": [
    {
     "data": {
      "image/png": "[encoded data removed]",
      "text/plain": [
       "<Figure size 576x432 with 1 Axes>"
      ]
     },
     "metadata": {
      "needs_background": "light"
     },
     "output_type": "display_data"
    }
   ],
   "source": [
    "# função para criar o gráfico com as proporções de A, T, G, C:\n",
    "def cria_grafico_proporcao_nucleotideos(proporcao):\n",
    "  nome_bases = (\"A\", \"T\", \"G\", \"C\")\n",
    "  cores = (\"green\", \"red\", \"black\", \"blue\")\n",
    "\n",
    "  plt.figure(figsize=(8,6))\n",
    "  plt.bar(nome_bases, proporcao, color=cores)\n",
    "  plt.ylabel(\"Quantidade de bases (%)\", fontsize = 16)\n",
    "  plt.xticks([\"A\", \"T\", \"G\", \"C\"], fontsize = 16)\n",
    "  plt.xlabel(\"Nucleotídeo\", fontsize = 16);\n",
    "\n",
    "\n",
    "cria_grafico_proporcao_nucleotideos(proporcao)"
   ]
  },
  {
   "cell_type": "markdown",
   "metadata": {},
   "source": [
    "## Conteúdo GC"
   ]
  },
  {
   "cell_type": "code",
   "execution_count": 61,
   "metadata": {},
   "outputs": [
    {
     "data": {
      "text/plain": [
       "60.91954022988506"
      ]
     },
     "execution_count": 61,
     "metadata": {},
     "output_type": "execute_result"
    }
   ],
   "source": [
    "# função que retorna a proporção de GC da sequência:\n",
    "def proporcao_gc(dna): \n",
    "# contar e somar G e C\n",
    "  bases_gc = dna.count(\"G\") + dna.count(\"C\")\n",
    "# tamanho total da sequência\n",
    "  total = len(dna)\n",
    "# obtendo a propoção de GC\n",
    "  proporcao = (bases_gc / total) * 100\n",
    "  return proporcao\n",
    "\n",
    "# chamando a função\n",
    "gc = proporcao_gc(meu_dna)\n",
    "gc"
   ]
  },
  {
   "cell_type": "code",
   "execution_count": 62,
   "metadata": {},
   "outputs": [
    {
     "data": {
      "image/png": "[encoded data removed]",
      "text/plain": [
       "<Figure size 576x432 with 1 Axes>"
      ]
     },
     "metadata": {
      "needs_background": "light"
     },
     "output_type": "display_data"
    }
   ],
   "source": [
    "# função para criar o gráfico com o conteúdo GC x AT:\n",
    "def cria_grafico_conteudo_gc(gc):\n",
    "  eixo_x = (\"GC\", \"AT\")\n",
    "  cores = (\"red\", \"green\")\n",
    "  at = 100 - gc\n",
    "  eixo_y = [gc, at]\n",
    "\n",
    "  plt.figure(figsize=(8,6))\n",
    "  plt.bar(eixo_x, eixo_y, color = cores)\n",
    "  plt.xticks([\"GC\", \"AT\"], fontsize = 16)\n",
    "  plt.ylabel(\"Conteúdo GC (%)\", fontsize = 14)\n",
    "\n",
    "cria_grafico_conteudo_gc(gc)"
   ]
  },
  {
   "cell_type": "code",
   "execution_count": 63,
   "metadata": {},
   "outputs": [
    {
     "data": {
      "image/png": "[encoded data removed]",
      "text/plain": [
       "<Figure size 576x432 with 1 Axes>"
      ]
     },
     "metadata": {},
     "output_type": "display_data"
    }
   ],
   "source": [
    "# função para criar um gráfico em pizza com o conteúdo GC x AT:\n",
    "def cria_grafico_pizza_conteudo_gc(gc):\n",
    "  cores = (\"red\", \"green\")\n",
    "  at = 100 - gc\n",
    "  dados = [gc, at]\n",
    "\n",
    "  plt.figure(figsize=(8,6))\n",
    "  plt.pie(dados, colors = cores)\n",
    "  plt.title(\"Conteúdo GC (%)\", fontsize = 16)\n",
    "  plt.xlabel(\"GC: {:.1f}% \\n AT: {:.1f}%\".format(gc, at), fontsize = 16)\n",
    "\n",
    "cria_grafico_pizza_conteudo_gc(gc)"
   ]
  },
  {
   "cell_type": "code",
   "execution_count": null,
   "metadata": {},
   "outputs": [],
   "source": []
  },
  {
   "cell_type": "code",
   "execution_count": null,
   "metadata": {},
   "outputs": [],
   "source": []
  },
  {
   "cell_type": "code",
   "execution_count": null,
   "metadata": {},
   "outputs": [],
   "source": []
  }
 ],
 "metadata": {
  "kernelspec": {
   "display_name": "Python 3",
   "language": "python",
   "name": "python3"
  },
  "language_info": {
   "codemirror_mode": {
    "name": "ipython",
    "version": 3
   },
   "file_extension": ".py",
   "mimetype": "text/x-python",
   "name": "python",
   "nbconvert_exporter": "python",
   "pygments_lexer": "ipython3",
   "version": "3.8.5"
  }
 },
 "nbformat": 4,
 "nbformat_minor": 2
}
